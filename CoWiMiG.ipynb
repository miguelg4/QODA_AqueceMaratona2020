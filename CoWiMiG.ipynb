{
  "nbformat": 4,
  "nbformat_minor": 0,
  "metadata": {
    "colab": {
      "name": "CoWiMiG.ipynb",
      "provenance": [],
      "collapsed_sections": [],
      "authorship_tag": "ABX9TyOiufCMIqhIf3HlP9v7t7gR",
      "include_colab_link": true
    },
    "kernelspec": {
      "name": "python3",
      "display_name": "Python 3"
    }
  },
  "cells": [
    {
      "cell_type": "markdown",
      "metadata": {
        "id": "view-in-github",
        "colab_type": "text"
      },
      "source": [
        "<a href=\"https://colab.research.google.com/github/miguelg4/QODA_AqueceMaratona2020/blob/master/CoWiMiG.ipynb\" target=\"_parent\"><img src=\"https://colab.research.google.com/assets/colab-badge.svg\" alt=\"Open In Colab\"/></a>"
      ]
    },
    {
      "cell_type": "code",
      "metadata": {
        "id": "zOB14sII37r7",
        "colab_type": "code",
        "colab": {}
      },
      "source": [
        "alt = float(input(\"Digite sua altura em metros: \"));\n",
        "pesoIdeal = (72.7 * alt) - 58\n",
        "print(f\"Seu peso ideal é {pesoIdeal}\")"
      ],
      "execution_count": 0,
      "outputs": []
    },
    {
      "cell_type": "code",
      "metadata": {
        "id": "oCbckWuq7T5b",
        "colab_type": "code",
        "colab": {}
      },
      "source": [
        "turnoEstudo = input(\"Olá, em que turno você estura?\\n M - para matutino\\n V - para Vespertino\\n N - para  Noturno\\n\")\n",
        "\n",
        "if turnoEstudo == \"M\":\n",
        "  print(\"Bom Dia!\")\n",
        "elif turnoEstudo == \"V\":\n",
        " print(\"Boa Tarde!\")\n",
        "elif turnoEstudo == \"N\":\n",
        " print(\"Boa Noite!\")\n",
        "else :\n",
        " print(\"Escolha uma das opções listada!\")\n"
      ],
      "execution_count": 0,
      "outputs": []
    },
    {
      "cell_type": "code",
      "metadata": {
        "id": "sUuDsupFBsrT",
        "colab_type": "code",
        "colab": {}
      },
      "source": [
        "\n",
        "SeqFibonacci = int(input(\"Qual numero voce deseja receber a sequencia fibonacci?\"))\n",
        "anterior = 0\n",
        "proximo = 0\n",
        "\n",
        "while proximo <= SeqFibonacci:\n",
        "  print(proximo)\n",
        "  proximo = proximo + anterior\n",
        "  anterior = proximo - anterior\n",
        "\n",
        "  if proximo == 0:\n",
        "    proximo = proximo + 1\n"
      ],
      "execution_count": 0,
      "outputs": []
    },
    {
      "cell_type": "code",
      "metadata": {
        "id": "8F_1XOQBGADw",
        "colab_type": "code",
        "colab": {}
      },
      "source": [
        "num = int(input(\"Digite um número inteiro: \"))\n",
        "print(num)\n",
        "num = str(num)[::-1]\n",
        "print(f\"O número digitado no formato invertido é: \\n{num}\")"
      ],
      "execution_count": 0,
      "outputs": []
    }
  ]
}